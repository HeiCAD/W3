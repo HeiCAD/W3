{
 "cells": [
  {
   "cell_type": "markdown",
   "source": [
    "### 1. Aufgabe (_Hinzufügen von Elementen zu einer Liste_)\n",
    "Die unten definierte Liste _colours_ enthält drei Farben _red_, _green_ und _blue_ als Elemente.\n",
    "\n",
    "Schreibe eine Anweisung, um das Element _yellow_ an das Ende der Liste einzufügen."
   ],
   "metadata": {
    "collapsed": false,
    "pycharm": {
     "name": "#%% md\n"
    }
   }
  },
  {
   "cell_type": "code",
   "execution_count": null,
   "outputs": [],
   "source": [
    "colours = [\"red\", \"green\", \"blue\"]\n",
    "\n",
    "# Hier kommt deine Lösung\n",
    "\n",
    "\n",
    "print(colours)"
   ],
   "metadata": {
    "collapsed": false,
    "pycharm": {
     "name": "#%%\n"
    }
   }
  },
  {
   "cell_type": "markdown",
   "source": [
    "### 2. Aufgabe (_Zugriff auf die Listenelemente_)\n",
    "Die Liste _fruits_ enthält fünf Elemente: _apple_, _pear_, _banana_, _grape_ und _peach_.\n"
   ],
   "metadata": {
    "collapsed": false,
    "pycharm": {
     "name": "#%% md\n"
    }
   }
  },
  {
   "cell_type": "code",
   "execution_count": 1,
   "outputs": [],
   "source": [
    "fruits = [\"apple\", \"pear\", \"banana\", \"grape\", \"peach\"]"
   ],
   "metadata": {
    "collapsed": false,
    "pycharm": {
     "name": "#%%\n"
    }
   }
  },
  {
   "cell_type": "markdown",
   "source": [
    "a) Auf welches Element wird jeweils durch die Anweisung\n",
    "   1. `fruits[2]`\n",
    "   2. `fruits[-1]`\n",
    "\n",
    "zugegriffen?"
   ],
   "metadata": {
    "collapsed": false,
    "pycharm": {
     "name": "#%% md\n"
    }
   }
  },
  {
   "cell_type": "code",
   "execution_count": null,
   "outputs": [],
   "source": [
    "# Hier kannst du deine Lösung ausprobieren\n",
    "\n",
    "\n"
   ],
   "metadata": {
    "collapsed": false,
    "pycharm": {
     "name": "#%%\n"
    }
   }
  },
  {
   "cell_type": "markdown",
   "source": [
    "b) Schreibe eine Anweisung, um die Elemente _grape_ und _peach_ in der vorgegebenen Reihenfolge auszugeben."
   ],
   "metadata": {
    "collapsed": false,
    "pycharm": {
     "name": "#%% md\n"
    }
   }
  },
  {
   "cell_type": "code",
   "execution_count": null,
   "outputs": [],
   "source": [
    "# Hier kommt deine Lösung\n",
    "\n",
    "\n"
   ],
   "metadata": {
    "collapsed": false,
    "pycharm": {
     "name": "#%%\n"
    }
   }
  },
  {
   "cell_type": "markdown",
   "source": [
    "### 3. Aufgabe (_Listen von Listen_)\n",
    "Die unten definierte Liste _composers_ beinhaltet die Namen, die Geburtsjahre und die Geburtsstädte einiger Komponisten.\n",
    "\n",
    "Schreibe eine Anweisung, mit der du das Geburtsjahr von Antonio Lucio Vivaldi ausgeben kannst."
   ],
   "metadata": {
    "collapsed": false,
    "pycharm": {
     "name": "#%% md\n"
    }
   }
  },
  {
   "cell_type": "code",
   "execution_count": 2,
   "outputs": [],
   "source": [
    "composers = [[\"Johannes Brahms\", 1833, \"Hamburg\"], [\"Wolfgang Amadeus Mozart\", 1756, \"Salzburg\"], [\"Antonio Lucio Vivaldi\", 1678, \"Venedig\"]]\n",
    "\n",
    "# Hier kommt deine Lösung\n",
    "\n"
   ],
   "metadata": {
    "collapsed": false,
    "pycharm": {
     "name": "#%%\n"
    }
   }
  },
  {
   "cell_type": "markdown",
   "source": [
    "### 4. Aufgabe (_Elemente einer Liste ersetzen_)\n",
    "In die Liste _primes_ hat sich ein Fehler eingeschlichen. Schreibe eine Anweisung, mit der die Zahl _9_ durch die Primzahl _7_ ersetzt wird."
   ],
   "metadata": {
    "collapsed": false,
    "pycharm": {
     "name": "#%% md\n"
    }
   }
  },
  {
   "cell_type": "code",
   "execution_count": null,
   "outputs": [],
   "source": [
    "primes = [2, 3, 5, 9, 11]\n",
    "\n",
    "# Hier kommt deine Lösung\n",
    "\n",
    "\n",
    "print(primes)"
   ],
   "metadata": {
    "collapsed": false,
    "pycharm": {
     "name": "#%%\n"
    }
   }
  },
  {
   "cell_type": "markdown",
   "source": [
    "### 5. Aufgabe (_Zugehörigkeiten zu einer Liste_)\n",
    "Die Liste _tongue_twister_ enthält die Worte eines Zungenbrechers als Elemente. Schreibe eine Anweisung, mit der du die Anzahl des Vorkommens des Wortes \"can\" in der Liste _tongue_twister_ berechnen kannst.\n"
   ],
   "metadata": {
    "collapsed": false,
    "pycharm": {
     "name": "#%% md\n"
    }
   }
  },
  {
   "cell_type": "code",
   "execution_count": null,
   "outputs": [],
   "source": [
    "tongue_twister = [\"Can\", \"you\", \"can\", \"a\", \"can\", \"as\", \"a\", \"canner\", \"can\", \"can\", \"a\", \"can\"]\n",
    "\n",
    "# Hier kommt deine Lösung\n",
    "\n"
   ],
   "metadata": {
    "collapsed": false,
    "pycharm": {
     "name": "#%%\n"
    }
   }
  },
  {
   "cell_type": "markdown",
   "source": [
    "### 6. Aufgabe (_Verkettung von Listen_)\n",
    "Die Listen _part_1_ und _part_2_ enthalten jeweils zwei Teile einer Zahlenfolge. Schreibe eine Anweisung, mit der du aus diesen beiden Listen eine neue Liste `numbers = [5, 6, 7, 1, 2, 3, 4]` erstellst.\n",
    "\n"
   ],
   "metadata": {
    "collapsed": false,
    "pycharm": {
     "name": "#%% md\n"
    }
   }
  },
  {
   "cell_type": "code",
   "execution_count": null,
   "outputs": [],
   "source": [
    "part_1 = [1, 2, 3, 4]\n",
    "part_2 = [5, 6, 7]\n",
    "\n",
    "# Hier kommt deine Lösung\n",
    "\n"
   ],
   "metadata": {
    "collapsed": false,
    "pycharm": {
     "name": "#%%\n"
    }
   }
  }
 ],
 "metadata": {
  "kernelspec": {
   "display_name": "Python 3",
   "language": "python",
   "name": "python3"
  },
  "language_info": {
   "codemirror_mode": {
    "name": "ipython",
    "version": 2
   },
   "file_extension": ".py",
   "mimetype": "text/x-python",
   "name": "python",
   "nbconvert_exporter": "python",
   "pygments_lexer": "ipython2",
   "version": "2.7.6"
  }
 },
 "nbformat": 4,
 "nbformat_minor": 0
}